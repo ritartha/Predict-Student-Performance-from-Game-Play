{
 "cells": [
  {
   "cell_type": "code",
   "execution_count": 1,
   "id": "bc95c40d",
   "metadata": {},
   "outputs": [
    {
     "name": "stdout",
     "output_type": "stream",
     "text": [
      "Couldn't find program: 'bash'\n"
     ]
    }
   ],
   "source": [
    "%%bash\n",
    "pip install -q kaggle\n",
    "mkdir ~/.kaggle\n",
    "cp kaggle.json ~/.kaggle/\n",
    "chmod 600 ~/.kaggle/kaggle.json\n",
    "kaggle competitions download -c predict-student-performance-from-game-play\n"
   ]
  },
  {
   "cell_type": "code",
   "execution_count": null,
   "id": "6dfc07b2",
   "metadata": {},
   "outputs": [],
   "source": []
  }
 ],
 "metadata": {
  "kernelspec": {
   "display_name": "Python 3",
   "language": "python",
   "name": "python3"
  },
  "language_info": {
   "codemirror_mode": {
    "name": "ipython",
    "version": 3
   },
   "file_extension": ".py",
   "mimetype": "text/x-python",
   "name": "python",
   "nbconvert_exporter": "python",
   "pygments_lexer": "ipython3",
   "version": "3.8.8"
  }
 },
 "nbformat": 4,
 "nbformat_minor": 5
}
